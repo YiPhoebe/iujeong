{
 "cells": [
  {
   "cell_type": "code",
   "execution_count": 3,
   "metadata": {},
   "outputs": [
    {
     "name": "stdout",
     "output_type": "stream",
     "text": [
      "두 숫자의 합은 : 6\n"
     ]
    }
   ],
   "source": [
    "# 첫 번째 숫자를 입력하세요: 3  \n",
    "# 두 번째 숫자를 입력하세요: 5  \n",
    "# 두 숫자의 합은 8입니다.\n",
    "\n",
    "# 1.\t사용자로부터 숫자 두 개를 입력받는다.\n",
    "# 2.\t입력받은 값을 숫자형으로 변환한다.\n",
    "# 3.\t두 숫자를 더한다.\n",
    "# 4.\t결과를 출력한다.\n",
    "\n",
    "num1 = int(input(\"첫 번째 숫자를 입력하세요 : \"))\n",
    "num2 = int(input(\"두 번째 숫자를 입력하세요 : \"))\n",
    "\n",
    "num = num1 + num2\n",
    "\n",
    "print(f\"두 숫자의 합은 : {num}\")\n",
    "\n"
   ]
  },
  {
   "cell_type": "code",
   "execution_count": 8,
   "metadata": {},
   "outputs": [
    {
     "name": "stdout",
     "output_type": "stream",
     "text": [
      "짝수 입니다.\n"
     ]
    }
   ],
   "source": [
    "# 숫자를 입력하세요: 7  \n",
    "# 입력하신 숫자는 홀수입니다.\n",
    "\n",
    "# 1. 문자를 정수로 받아서 처리.\n",
    "# 2. 숫자 입력\n",
    "# 3. / 2 로 = 0 으로 만들어지면 짝수 아니면 홀수\n",
    "# 4. 결과 출력 스트링 사용\n",
    "\n",
    "num = int(input(\"숫자를 입력하세요 : \"))\n",
    "\n",
    "if num % 2 == 0:\n",
    "    print(\"짝수 입니다.\")\n",
    "else:\n",
    "    print(\"홀수 입니다.\")"
   ]
  },
  {
   "cell_type": "code",
   "execution_count": 9,
   "metadata": {},
   "outputs": [
    {
     "name": "stdout",
     "output_type": "stream",
     "text": [
      "2 x 1 = 2\n",
      "2 x 2 = 4\n",
      "2 x 3 = 6\n",
      "2 x 4 = 8\n",
      "2 x 5 = 10\n",
      "2 x 6 = 12\n",
      "2 x 7 = 14\n",
      "2 x 8 = 16\n",
      "2 x 9 = 18\n"
     ]
    }
   ],
   "source": [
    "# 몇 단을 출력할까요? 3  \n",
    "# 3 x 1 = 3  \n",
    "# 3 x 2 = 6  \n",
    "# 3 x 3 = 9  \n",
    "# ...  \n",
    "# 3 x 9 = 27\n",
    "\n",
    "# 1. 숫자 입력 int(input)\n",
    "# 2. 구구단 출력\n",
    "# 3. 결과 출력\n",
    "\n",
    "\n",
    "num = int(input(\"몇 단 출력할꼬? : \"))\n",
    "\n",
    "for i in range (1, 10):\n",
    "    print(f\"{num} x {i} = {num * i}\")"
   ]
  },
  {
   "cell_type": "code",
   "execution_count": 1,
   "metadata": {},
   "outputs": [
    {
     "name": "stdout",
     "output_type": "stream",
     "text": [
      "더 작은 숫자를 입력해보세요.\n",
      "더 작은 숫자를 입력해보세요.\n",
      "정답입니다!\n"
     ]
    }
   ],
   "source": [
    "import random\n",
    "\n",
    "random_num = random.randint(1, 100)\n",
    "\n",
    "user_input = 0\n",
    "while user_input != random_num:  # 공백 없이 !=\n",
    "    user_input = int(input(\"숫자를 입력하세요: \"))\n",
    "\n",
    "    if user_input < random_num:\n",
    "        print(\"더 큰 숫자를 입력해보세요.\")\n",
    "    elif user_input > random_num:  # random_num으로 수정\n",
    "        print(\"더 작은 숫자를 입력해보세요.\")\n",
    "    else:\n",
    "        print(\"정답입니다!\")"
   ]
  },
  {
   "cell_type": "code",
   "execution_count": null,
   "metadata": {},
   "outputs": [
    {
     "name": "stdout",
     "output_type": "stream",
     "text": [
      "입력한 숫자의 평균은 3912.5입니다.\n"
     ]
    }
   ],
   "source": [
    "# 2. 평균 구하기\n",
    "\n",
    "# 사용자로부터 숫자 여러 개를 입력받고, 입력한 숫자들의 평균을 구하는 프로그램이야.\n",
    "# 예시 입력: 5, 10, 15\n",
    "# 예시 출력: 평균은 10입니다.\n",
    "\n",
    "# 1. 숫자 입력, 여러개  \n",
    "# 2. 정수로 변환\n",
    "# 3. 결과 출력\n",
    "# 4. f 스트링 으로 평균은 {/} 입니다.\n",
    "\n",
    "user_input = input(\"숫자를 입력하세요. (쉼표로 구분): \")\n",
    "\n",
    "try:\n",
    "    # 쉼표로 나눠서 숫자로 변환\n",
    "    numbers = [float(x.strip()) for x in user_input.split(\",\")]\n",
    "\n",
    "    # 빈 입력 처리\n",
    "    if len(numbers) == 0:\n",
    "        print(\"숫자를 입력해야 합니다!\")\n",
    "        exit()\n",
    "\n",
    "    # 평균 계산\n",
    "    average = sum(numbers) / len(numbers)\n",
    "    print(f\"입력한 숫자의 평균은 {average}입니다.\")\n",
    "\n",
    "except ValueError:\n",
    "    print(\"숫자만 입력해주세요!\")\n",
    "    exit()"
   ]
  },
  {
   "cell_type": "code",
   "execution_count": 1,
   "metadata": {},
   "outputs": [
    {
     "name": "stdout",
     "output_type": "stream",
     "text": [
      "피보나치 수열: [0, 1, 1, 2, 3, 5, 8, 13]\n"
     ]
    }
   ],
   "source": [
    "# 3. 피보나치 수열 만들기\n",
    "\n",
    "# 피보나치 수열은 첫 번째와 두 번째 숫자가 1이고, 그다음부터는 앞의 두 숫자를 더해서 만들어지는 수열이야.\n",
    "# 예를 들어: 1, 1, 2, 3, 5, 8, 13, …\n",
    "\n",
    "# 사용자가 원하는 길이를 입력받아 피보나치 수열을 출력하는 프로그램을 만들어보자.\n",
    "\n",
    "# 프로그램 목표\n",
    "# \t1.\t사용자로부터 몇 개의 피보나치 수를 출력할지 입력받기\n",
    "# \t•\t예: “5”를 입력하면 1, 1, 2, 3, 5를 출력.\n",
    "# \t2.\t피보나치 수열 계산하기\n",
    "# \t•\t리스트를 사용해 각 값을 저장하거나, 변수 두 개로 계산.\n",
    "# \t3.\t결과 출력하기\n",
    "\n",
    "# ------ 첫 번째 답\n",
    "# # 사용자 입력 받기\n",
    "# user_input = int(input(\"몇 개의 피보나치 수를 출력할까요? \"))\n",
    "\n",
    "# # 첫 두 숫자 초기화\n",
    "# num = [1, 1]\n",
    "\n",
    "# for i in range(2, user_input):   # 이미 위에 num으로 1, 1 두개는 있으니 2부터 시작하고\n",
    "#     next_num = num[-1] + num[-2]    # 마지막 두 숫자의 합\n",
    "#     num.append(next_num)    # 리스트에 추가\n",
    "# print(\"피보나치 수열: \", num)\n",
    "\n",
    "\n",
    "# ------ 두 번째 답\n",
    "# try:\n",
    "#     user_input = int(input(\"몇 개의 피보나치 수를 출력할까요? \"))\n",
    "#     num = [0, 1] if start_with_zero else [1, 1]\n",
    "#     if user_input <= 0:     # 만약 user_input이 0보다 작으면 ?\n",
    "#         print(\"1 이상의 숫자를 입력해주세요.\")\n",
    "#         exit()  # 출력하면 탈출\n",
    "# except ValueError:\n",
    "#     print(\"숫자만 입력해주세요.\")\n",
    "#     exit()\n",
    "\n",
    "# ------ 세 번째 답\n",
    "try:\n",
    "    # 피보나치 시작을 0으로 할지 결정\n",
    "    start_with_zero = True  # False로 바꾸면 [1, 1]로 시작\n",
    "    \n",
    "    # 사용자 입력받기\n",
    "    user_input = int(input(\"몇 개의 피보나치 수를 출력할까요? \"))\n",
    "\n",
    "    # 입력값 검증\n",
    "    if user_input <= 0:\n",
    "        print(\"1 이상의 숫자를 입력해주세요.\")\n",
    "        exit()  # 프로그램 종료\n",
    "\n",
    "    # 피보나치 초기값 설정\n",
    "    num = [0, 1] if start_with_zero else [1, 1]\n",
    "\n",
    "    # 피보나치 수열 계산\n",
    "    for i in range(2, user_input):  # 첫 두 값이 있으니 2부터 시작\n",
    "        next_num = num[-1] + num[-2]  # 마지막 두 숫자의 합\n",
    "        num.append(next_num)  # 리스트에 추가\n",
    "\n",
    "    # 결과 출력\n",
    "    print(\"피보나치 수열:\", num)\n",
    "\n",
    "except ValueError:\n",
    "    print(\"숫자만 입력해주세요.\")\n",
    "    exit()"
   ]
  },
  {
   "cell_type": "code",
   "execution_count": null,
   "metadata": {},
   "outputs": [],
   "source": [
    "# 문제 1: 소수 판별하기\n",
    "\n",
    "# 사용자로부터 숫자를 입력받아 해당 숫자가 소수인지 아닌지 판별하는 프로그램을 작성하세요.\n",
    "# 소수(Prime Number)는 1과 자기 자신으로만 나누어지는 숫자입니다.\n",
    "# 예: 2, 3, 5, 7, 11 등.\n",
    "\n"
   ]
  },
  {
   "cell_type": "code",
   "execution_count": null,
   "metadata": {},
   "outputs": [],
   "source": [
    "# 문제 2: 문자열 뒤집기\n",
    "\n",
    "# 사용자로부터 문자열을 입력받아 뒤집어서 출력하는 프로그램을 작성하세요.\n",
    "# 입력 예시: “파이썬 재미있어!”\n",
    "# 출력 예시: “!어있미재 녓이파”"
   ]
  }
 ],
 "metadata": {
  "kernelspec": {
   "display_name": "bogdong",
   "language": "python",
   "name": "python3"
  },
  "language_info": {
   "codemirror_mode": {
    "name": "ipython",
    "version": 3
   },
   "file_extension": ".py",
   "mimetype": "text/x-python",
   "name": "python",
   "nbconvert_exporter": "python",
   "pygments_lexer": "ipython3",
   "version": "3.12.8"
  }
 },
 "nbformat": 4,
 "nbformat_minor": 2
}

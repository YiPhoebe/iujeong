{
 "cells": [
  {
   "cell_type": "code",
   "execution_count": 3,
   "metadata": {},
   "outputs": [
    {
     "name": "stdout",
     "output_type": "stream",
     "text": [
      "두 숫자의 합은 : 6\n"
     ]
    }
   ],
   "source": [
    "# 첫 번째 숫자를 입력하세요: 3  \n",
    "# 두 번째 숫자를 입력하세요: 5  \n",
    "# 두 숫자의 합은 8입니다.\n",
    "\n",
    "# 1.\t사용자로부터 숫자 두 개를 입력받는다.\n",
    "# 2.\t입력받은 값을 숫자형으로 변환한다.\n",
    "# 3.\t두 숫자를 더한다.\n",
    "# 4.\t결과를 출력한다.\n",
    "\n",
    "num1 = int(input(\"첫 번째 숫자를 입력하세요 : \"))\n",
    "num2 = int(input(\"두 번째 숫자를 입력하세요 : \"))\n",
    "\n",
    "num = num1 + num2\n",
    "\n",
    "print(f\"두 숫자의 합은 : {num}\")\n",
    "\n"
   ]
  },
  {
   "cell_type": "code",
   "execution_count": 8,
   "metadata": {},
   "outputs": [
    {
     "name": "stdout",
     "output_type": "stream",
     "text": [
      "짝수 입니다.\n"
     ]
    }
   ],
   "source": [
    "# 숫자를 입력하세요: 7  \n",
    "# 입력하신 숫자는 홀수입니다.\n",
    "\n",
    "# 1. 문자를 정수로 받아서 처리.\n",
    "# 2. 숫자 입력\n",
    "# 3. / 2 로 = 0 으로 만들어지면 짝수 아니면 홀수\n",
    "# 4. 결과 출력 스트링 사용\n",
    "\n",
    "num = int(input(\"숫자를 입력하세요 : \"))\n",
    "\n",
    "if num % 2 == 0:\n",
    "    print(\"짝수 입니다.\")\n",
    "else:\n",
    "    print(\"홀수 입니다.\")"
   ]
  },
  {
   "cell_type": "code",
   "execution_count": 9,
   "metadata": {},
   "outputs": [
    {
     "name": "stdout",
     "output_type": "stream",
     "text": [
      "2 x 1 = 2\n",
      "2 x 2 = 4\n",
      "2 x 3 = 6\n",
      "2 x 4 = 8\n",
      "2 x 5 = 10\n",
      "2 x 6 = 12\n",
      "2 x 7 = 14\n",
      "2 x 8 = 16\n",
      "2 x 9 = 18\n"
     ]
    }
   ],
   "source": [
    "# 몇 단을 출력할까요? 3  \n",
    "# 3 x 1 = 3  \n",
    "# 3 x 2 = 6  \n",
    "# 3 x 3 = 9  \n",
    "# ...  \n",
    "# 3 x 9 = 27\n",
    "\n",
    "# 1. 숫자 입력 int(input)\n",
    "# 2. 구구단 출력\n",
    "# 3. 결과 출력\n",
    "\n",
    "\n",
    "num = int(input(\"몇 단 출력할꼬? : \"))\n",
    "\n",
    "for i in range (1, 10):\n",
    "    print(f\"{num} x {i} = {num * i}\")"
   ]
  },
  {
   "cell_type": "code",
   "execution_count": 1,
   "metadata": {},
   "outputs": [
    {
     "name": "stdout",
     "output_type": "stream",
     "text": [
      "더 작은 숫자를 입력해보세요.\n",
      "더 작은 숫자를 입력해보세요.\n",
      "정답입니다!\n"
     ]
    }
   ],
   "source": [
    "import random\n",
    "\n",
    "random_num = random.randint(1, 100)\n",
    "\n",
    "user_input = 0\n",
    "while user_input != random_num:  # 공백 없이 !=\n",
    "    user_input = int(input(\"숫자를 입력하세요: \"))\n",
    "\n",
    "    if user_input < random_num:\n",
    "        print(\"더 큰 숫자를 입력해보세요.\")\n",
    "    elif user_input > random_num:  # random_num으로 수정\n",
    "        print(\"더 작은 숫자를 입력해보세요.\")\n",
    "    else:\n",
    "        print(\"정답입니다!\")"
   ]
  },
  {
   "cell_type": "code",
   "execution_count": null,
   "metadata": {},
   "outputs": [
    {
     "name": "stdout",
     "output_type": "stream",
     "text": [
      "입력한 숫자의 평균은 3912.5입니다.\n"
     ]
    }
   ],
   "source": [
    "# 2. 평균 구하기\n",
    "\n",
    "# 사용자로부터 숫자 여러 개를 입력받고, 입력한 숫자들의 평균을 구하는 프로그램이야.\n",
    "# 예시 입력: 5, 10, 15\n",
    "# 예시 출력: 평균은 10입니다.\n",
    "\n",
    "# 1. 숫자 입력, 여러개  \n",
    "# 2. 정수로 변환\n",
    "# 3. 결과 출력\n",
    "# 4. f 스트링 으로 평균은 {/} 입니다.\n",
    "\n",
    "user_input = input(\"숫자를 입력하세요. (쉼표로 구분): \")\n",
    "\n",
    "try:\n",
    "    # 쉼표로 나눠서 숫자로 변환\n",
    "    numbers = [float(x.strip()) for x in user_input.split(\",\")]\n",
    "\n",
    "    # 빈 입력 처리\n",
    "    if len(numbers) == 0:\n",
    "        print(\"숫자를 입력해야 합니다!\")\n",
    "        exit()\n",
    "\n",
    "    # 평균 계산\n",
    "    average = sum(numbers) / len(numbers)\n",
    "    print(f\"입력한 숫자의 평균은 {average}입니다.\")\n",
    "\n",
    "except ValueError:\n",
    "    print(\"숫자만 입력해주세요!\")\n",
    "    exit()"
   ]
  },
  {
   "cell_type": "code",
   "execution_count": 1,
   "metadata": {},
   "outputs": [
    {
     "name": "stdout",
     "output_type": "stream",
     "text": [
      "피보나치 수열: [0, 1, 1, 2, 3, 5, 8, 13]\n"
     ]
    }
   ],
   "source": [
    "# 3. 피보나치 수열 만들기\n",
    "\n",
    "# 피보나치 수열은 첫 번째와 두 번째 숫자가 1이고, 그다음부터는 앞의 두 숫자를 더해서 만들어지는 수열이야.\n",
    "# 예를 들어: 1, 1, 2, 3, 5, 8, 13, …\n",
    "\n",
    "# 사용자가 원하는 길이를 입력받아 피보나치 수열을 출력하는 프로그램을 만들어보자.\n",
    "\n",
    "# 프로그램 목표\n",
    "# \t1.\t사용자로부터 몇 개의 피보나치 수를 출력할지 입력받기\n",
    "# \t•\t예: “5”를 입력하면 1, 1, 2, 3, 5를 출력.\n",
    "# \t2.\t피보나치 수열 계산하기\n",
    "# \t•\t리스트를 사용해 각 값을 저장하거나, 변수 두 개로 계산.\n",
    "# \t3.\t결과 출력하기\n",
    "\n",
    "# ------ 첫 번째 답\n",
    "# # 사용자 입력 받기\n",
    "# user_input = int(input(\"몇 개의 피보나치 수를 출력할까요? \"))\n",
    "\n",
    "# # 첫 두 숫자 초기화\n",
    "# num = [1, 1]\n",
    "\n",
    "# for i in range(2, user_input):   # 이미 위에 num으로 1, 1 두개는 있으니 2부터 시작하고\n",
    "#     next_num = num[-1] + num[-2]    # 마지막 두 숫자의 합\n",
    "#     num.append(next_num)    # 리스트에 추가\n",
    "# print(\"피보나치 수열: \", num)\n",
    "\n",
    "\n",
    "# ------ 두 번째 답\n",
    "# try:\n",
    "#     user_input = int(input(\"몇 개의 피보나치 수를 출력할까요? \"))\n",
    "#     num = [0, 1] if start_with_zero else [1, 1]\n",
    "#     if user_input <= 0:     # 만약 user_input이 0보다 작으면 ?\n",
    "#         print(\"1 이상의 숫자를 입력해주세요.\")\n",
    "#         exit()  # 출력하면 탈출\n",
    "# except ValueError:\n",
    "#     print(\"숫자만 입력해주세요.\")\n",
    "#     exit()\n",
    "\n",
    "# ------ 세 번째 답\n",
    "try:\n",
    "    # 피보나치 시작을 0으로 할지 결정\n",
    "    start_with_zero = True  # False로 바꾸면 [1, 1]로 시작\n",
    "    \n",
    "    # 사용자 입력받기\n",
    "    user_input = int(input(\"몇 개의 피보나치 수를 출력할까요? \"))\n",
    "\n",
    "    # 입력값 검증\n",
    "    if user_input <= 0:\n",
    "        print(\"1 이상의 숫자를 입력해주세요.\")\n",
    "        exit()  # 프로그램 종료\n",
    "\n",
    "    # 피보나치 초기값 설정\n",
    "    num = [0, 1] if start_with_zero else [1, 1]\n",
    "\n",
    "    # 피보나치 수열 계산\n",
    "    for i in range(2, user_input):  # 첫 두 값이 있으니 2부터 시작\n",
    "        next_num = num[-1] + num[-2]  # 마지막 두 숫자의 합\n",
    "        num.append(next_num)  # 리스트에 추가\n",
    "\n",
    "    # 결과 출력\n",
    "    print(\"피보나치 수열:\", num)\n",
    "\n",
    "except ValueError:\n",
    "    print(\"숫자만 입력해주세요.\")\n",
    "    exit()"
   ]
  },
  {
   "cell_type": "code",
   "execution_count": 2,
   "metadata": {},
   "outputs": [
    {
     "name": "stdout",
     "output_type": "stream",
     "text": [
      "5은 소수입니다.\n"
     ]
    }
   ],
   "source": [
    "# 문제 1: 소수 판별하기\n",
    "\n",
    "# 사용자로부터 숫자를 입력받아 해당 숫자가 소수인지 아닌지 판별하는 프로그램을 작성하세요.\n",
    "# 소수(Prime Number)는 1과 자기 자신으로만 나누어지는 숫자입니다.\n",
    "# 예: 2, 3, 5, 7, 11 등.\n",
    "\n",
    "# 1. 숫자 입력 input\n",
    "# 2. 소수 구별 % 나누기로??\n",
    "# 3. 숫자 출력\n",
    "\n",
    "num = int(input(\"숫자를 입력하세요 : \"))\n",
    "\n",
    "# 소수인지 판별하는 변수\n",
    "is_prime = True\n",
    "\n",
    "if num < 2: # 2보다 작은 숫자는 소수가 아님\n",
    "    is_prime = False\n",
    "else:\n",
    "    for i in range(2, int(num ** 0.5) + 1): # 2부터 num의 제곱근까지 확인\n",
    "        if num % i == 0:\n",
    "            is_prime = False\n",
    "            break\n",
    "\n",
    "# 결과 출력\n",
    "if is_prime:\n",
    "    print(f\"{num}은 소수입니다.\")\n",
    "else:\n",
    "    print(f\"{num}은 소수가 아닙니다.\")"
   ]
  },
  {
   "cell_type": "code",
   "execution_count": 4,
   "metadata": {},
   "outputs": [
    {
     "name": "stdout",
     "output_type": "stream",
     "text": [
      "요세하녕안\n"
     ]
    }
   ],
   "source": [
    "# 문제 2: 문자열 뒤집기\n",
    "\n",
    "# 사용자로부터 문자열을 입력받아 뒤집어서 출력하는 프로그램을 작성하세요.\n",
    "# 입력 예시: “파이썬 재미있어!”\n",
    "# 출력 예시: “!어있미재 녓이파”\n",
    "\n",
    "text = input(\"입력하세요 : \")\n",
    "reversed_text = text[::-1]  # 슬라이싱으로 문자열 뒤집기\n",
    "print(reversed_text)"
   ]
  },
  {
   "cell_type": "code",
   "execution_count": 6,
   "metadata": {},
   "outputs": [
    {
     "name": "stdout",
     "output_type": "stream",
     "text": [
      "1부터 9까지의 홀수 합은 25입니다.\n"
     ]
    }
   ],
   "source": [
    "# 문제 4: 홀수의 합 구하기\n",
    "\n",
    "# 1부터 사용자가 입력한 숫자까지의 모든 홀수의 합을 구하는 프로그램을 작성하세요.\n",
    "# 입력 예시: 10\n",
    "# 출력 예시: 25 (1 + 3 + 5 + 7 + 9)\n",
    "\n",
    "# 1. 입력 받을 곳\n",
    "# 2. 홀수만 골라내서 더하기\n",
    "# 3. 출력 반환\n",
    "\n",
    "num = int(input(\"숫자를 입력하세요 : \"))\n",
    "\n",
    "sum_of_odds = 0     # 홀수의 합을 저장할 변수\n",
    "\n",
    "for i in range(1, num + 1):     # 1부터 입력값까지 반복\n",
    "    if i % 2 != 0:  # 홀수라면\n",
    "        sum_of_odds += i    # 합에 더하기\n",
    "\n",
    "print(f\"1부터 {num}까지의 홀수 합은 {sum_of_odds}입니다.\")"
   ]
  },
  {
   "cell_type": "code",
   "execution_count": 9,
   "metadata": {},
   "outputs": [
    {
     "name": "stdout",
     "output_type": "stream",
     "text": [
      "사각형의 넓이는 50\n"
     ]
    }
   ],
   "source": [
    "# 🔹 문제 1: 사각형 클래스 만들기\n",
    "# \t사각형의 **가로(width)**와 **세로(height)**를 입력받아 **넓이(area)**를 계산하는 클래스를 만들어라.\n",
    "\n",
    "# 요구사항:\n",
    "# \t1.\t클래스 이름은 Rectangle.\n",
    "# \t2.\t생성자를 사용해 가로와 세로를 초기화.\n",
    "# \t3.\t넓이를 반환하는 메서드 get_area()를 작성.\n",
    "\n",
    "class Rectangle:\n",
    "    def __init__(self, width, height):\n",
    "        self.width = width   # 가로를 속성으로 저장\n",
    "        self.height = height    # 세로를 속성으로 저장\n",
    "\n",
    "    def get_area(self):\n",
    "        return self.width * self.height     # 넓이 계산\n",
    "\n",
    "# 사용자 입력\n",
    "num1 = int(input(\"가로를 입력하세요 : \"))\n",
    "num2 = int(input(\"세로를 입력하세요 : \"))\n",
    "\n",
    "rect = Rectangle(num1, num2)\n",
    "print(f\"사각형의 넓이는 {rect.get_area()}\")"
   ]
  },
  {
   "cell_type": "code",
   "execution_count": null,
   "metadata": {},
   "outputs": [
    {
     "name": "stdout",
     "output_type": "stream",
     "text": [
      "유정의 현재 점수는 190입니다.\n",
      "유정의 현재 점수는 270입니다.\n"
     ]
    }
   ],
   "source": [
    "# 🔹 문제 2: 학생 클래스\n",
    "# \t•\t학생의 이름과 점수를 관리하는 클래스를 만들어서 평균 점수를 계산해라.\n",
    "\n",
    "# 요구사항:\n",
    "# \t1.\t클래스 이름은 Student.\n",
    "# \t2.\t학생의 이름과 점수를 저장하는 속성을 포함.\n",
    "# \t3.\t점수를 추가하는 메서드 add_score().\n",
    "# \t4.\t평균 점수를 계산하는 메서드 get_average().\n",
    "\n",
    "class Student:\n",
    "    def __init__(self, name, score):\n",
    "        self.name = name    # 학생 이름\n",
    "        self.score = score  # 초기 점수\n",
    "\n",
    "    def add_score(self, addition_score):\n",
    "        self.score += addition_score    # 입력받은 점수 더하기\n",
    "        return self.score\n",
    "    \n",
    "# 학생 이름과 초기 점수 입력받기\n",
    "name = input(\"학생의 이름을 입력하세요 : \")\n",
    "initial_score = int(input(\"초기 점수를 입력하세요 : \"))\n",
    "\n",
    "# student 객체 생성\n",
    "student = Student(name, initial_score)\n",
    "\n",
    "# 여러번 점수를 추가하도록 반복문 사용\n",
    "while True:\n",
    "    add = int(input(\"더할 점수를 입력하세요 (종료하려면 -1 입력) : \"))\n",
    "    if add == -1:\n",
    "        break\n",
    "    total_score = student.add_score(add)\n",
    "    print(f\"{student.name}의 현재 점수는 {total_score}입니다.\")\n",
    "\n",
    "\n",
    "# # 추가할 점수 입력 및 계산\n",
    "# add = int(input(\"더할 점수를 입력하세요 :\"))\n",
    "# total_score = student.add_score(add)\n",
    "    \n",
    "# print(f\"{student.name}의 총 점수는 {total_score}입니다.\")"
   ]
  },
  {
   "cell_type": "code",
   "execution_count": null,
   "metadata": {},
   "outputs": [],
   "source": [
    "# 🔹 문제 3: 은행 계좌 클래스\n",
    "# \t•\t사용자가 돈을 입금하거나 출금할 수 있는 은행 계좌 클래스를 만들어라.\n",
    "\n",
    "# 요구사항:\n",
    "# \t1.\t클래스 이름은 BankAccount.\n",
    "# \t2.\t계좌의 잔액을 저장하는 속성을 포함.\n",
    "# \t3.\t입금 메서드 deposit(amount), 출금 메서드 withdraw(amount).\n",
    "# \t4.\t잔액을 확인하는 메서드 get_balance().\n",
    "\n",
    "\n",
    "# 내가 짠 코드\n",
    "# class BankAccount:\n",
    "#     def __init__(self, name, balance):\n",
    "#         self.name = name\n",
    "#         self.balance = balance\n",
    "\n",
    "#     def deposit(self, deposit_amount):\n",
    "#         self.balance += deposit_amount\n",
    "#         return self.balance\n",
    "    \n",
    "#     def withdraw(self, withdraw_amount):\n",
    "#         self.balance -= withdraw_amount\n",
    "#         return self.balance\n",
    "    \n",
    "# name = \"유정\"\n",
    "# initial_balance = 100\n",
    "\n",
    "# amount = BankAccount(name, initial_balance)\n",
    "\n",
    "# add = int(input(\"입금할 금액을 입력하세요 : \"))\n",
    "# fall = int(input(\"출금할 금액을 입력하세요 : \"))\n",
    "# total_balance1 = amount.deposit(add)\n",
    "# total_balance2 = amount.withdraw(fall)\n",
    "# total = total_balance1 + total_balance2\n",
    "\n",
    "# print(f\"{name}님의 계좌의 금액은 {total}입니다.\")\n",
    "\n",
    "\n",
    "# 챗gpt가 짜준 코드\n",
    "# class BankAccount:\n",
    "#     def __init__(self, name, balance):\n",
    "#         self.name = name    # 계좌 소유자 이름\n",
    "#         self.balance = balance  # 초기 잔액\n",
    "    \n",
    "#     def deposit(self, deposit_amount):\n",
    "#         self.balance += deposit_amount  # 입금\n",
    "#         print(f\"{deposit_amount}원이 입금되었습니다. 현재 잔액 : {self.balance}원\")\n",
    "#         return self.balance\n",
    "    \n",
    "#     def withdraw(self, withdraw_amount):\n",
    "#         if withdraw_amount > self.balance:   # 잔액 부족 시 처리\n",
    "#             print(\"잔액이 부족하여 출금할 수 없습니다.\")\n",
    "#         else:\n",
    "#             self.balance -= withdraw_amount     # 출금\n",
    "#             print(f\"{withdraw_amount}원이 출금되었습니다. 현재 잔액 : {self.balance}원\")\n",
    "#         return self.balance\n",
    "    \n",
    "# # 초기 값 설정\n",
    "# name = \"유정\"\n",
    "# initial_balance = 10000    # 초기 잔액은 숫자로 설정해야 함\n",
    "\n",
    "# # BankAccount 객체 생성\n",
    "# account = BankAccount(name, initial_balance)\n",
    "\n",
    "# # 입금 및 출금 처리\n",
    "# add = int(input(\"입금할 금액을 입력하세요 : \"))\n",
    "# account.deposit(add)\n",
    "\n",
    "# fall = int(input(\"출금할 금액을 입력하세요 : \"))\n",
    "# account.withdraw(fall)\n",
    "\n",
    "# # 최종 잔액 출력\n",
    "# print(f\"{name}님의 계좌의 최종 잔액은 {account.balance}원 입니다.\")\n",
    "\n",
    "\n",
    "\n",
    "\n",
    "# ++ 추가 (입/출금 선택 가능)\n",
    "class Bankaccount:\n",
    "    def __init__(self, name, balance):\n",
    "        self.name = name    # 계좌 소유자 이름\n",
    "        self.balance = balance      # 초기 잔액\n",
    "\n",
    "    def deposit(self, deposit_amount):\n",
    "        self.balance += deposit_amount      # 입금\n",
    "        print(f\"{deposit_amount}원 입금되었습니다. 현재 잔액 : {self.balance}원 입니다.\")\n",
    "\n",
    "    def withdraw(self, withdraw_amount):\n",
    "        if withdraw_amount > self.balance:      # 잔액 부족 시 처리\n",
    "            print(\"잔액이 부족하여 출금을 할 수 없습니다.\")\n",
    "\n",
    "        else:\n",
    "            self.balance -= withdraw_amount     # 출금\n",
    "            print(f\"{withdraw_amount}원 출금되었습니다. 현재 잔액 : {self.balance}원 입니다.\")\n",
    "\n",
    "# 초기값 설정\n",
    "name = \"유정\"\n",
    "initial_balance = 100\n",
    "\n",
    "# BankAccount 객체 생성\n",
    "account = Bankaccount(name, initial_balance)\n",
    "\n",
    "# 메뉴 시스템 (입금/출금/종료)\n",
    "while True:\n",
    "    print(\"\\n메뉴선택 : \")\n",
    "    print(\"1. 입금\")\n",
    "    print(\"2. 출금\")\n",
    "    print(\"3. 종료\")\n",
    "\n",
    "    choice = input(\"원하는 작업의 번호를 입력하세요 : \")\n",
    "\n",
    "    match choice:\n",
    "        case \"1\":\n",
    "            deposit_amount = int(input(\"입력할 금액을 입력하세요 : \"))\n",
    "            account.deposit(deposit_amount)\n",
    "\n",
    "        case \"2\":\n",
    "            withdraw_amount = int(input(\"출금할 금액을 입력하세요 : \"))\n",
    "            account.withdraw(withdraw_amount)\n",
    "\n",
    "        case \"3\":\n",
    "            print(f\"{account.name}님의 계좌를 종료합니다. 최종 잔액은 {account.balance}원 입니다.\")\n",
    "            break\n",
    "\n",
    "        case _:\n",
    "            print(\"잘못된 입력입니다. 다시 선택하세요.\")"
   ]
  }
 ],
 "metadata": {
  "kernelspec": {
   "display_name": "bogdong",
   "language": "python",
   "name": "python3"
  },
  "language_info": {
   "codemirror_mode": {
    "name": "ipython",
    "version": 3
   },
   "file_extension": ".py",
   "mimetype": "text/x-python",
   "name": "python",
   "nbconvert_exporter": "python",
   "pygments_lexer": "ipython3",
   "version": "3.12.8"
  }
 },
 "nbformat": 4,
 "nbformat_minor": 2
}

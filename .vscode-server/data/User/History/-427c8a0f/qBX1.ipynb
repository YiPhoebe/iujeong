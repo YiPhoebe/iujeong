{
 "cells": [
  {
   "cell_type": "code",
   "execution_count": 3,
   "metadata": {},
   "outputs": [
    {
     "name": "stdout",
     "output_type": "stream",
     "text": [
      "두 숫자의 합은 : 6\n"
     ]
    }
   ],
   "source": [
    "# 첫 번째 숫자를 입력하세요: 3  \n",
    "# 두 번째 숫자를 입력하세요: 5  \n",
    "# 두 숫자의 합은 8입니다.\n",
    "\n",
    "# 1.\t사용자로부터 숫자 두 개를 입력받는다.\n",
    "# 2.\t입력받은 값을 숫자형으로 변환한다.\n",
    "# 3.\t두 숫자를 더한다.\n",
    "# 4.\t결과를 출력한다.\n",
    "\n",
    "num1 = int(input(\"첫 번째 숫자를 입력하세요 : \"))\n",
    "num2 = int(input(\"두 번째 숫자를 입력하세요 : \"))\n",
    "\n",
    "num = num1 + num2\n",
    "\n",
    "print(f\"두 숫자의 합은 : {num}\")\n",
    "\n"
   ]
  },
  {
   "cell_type": "code",
   "execution_count": 8,
   "metadata": {},
   "outputs": [
    {
     "name": "stdout",
     "output_type": "stream",
     "text": [
      "짝수 입니다.\n"
     ]
    }
   ],
   "source": [
    "# 숫자를 입력하세요: 7  \n",
    "# 입력하신 숫자는 홀수입니다.\n",
    "\n",
    "# 1. 문자를 정수로 받아서 처리.\n",
    "# 2. 숫자 입력\n",
    "# 3. / 2 로 = 0 으로 만들어지면 짝수 아니면 홀수\n",
    "# 4. 결과 출력 스트링 사용\n",
    "\n",
    "num = int(input(\"숫자를 입력하세요 : \"))\n",
    "\n",
    "if num % 2 == 0:\n",
    "    print(\"짝수 입니다.\")\n",
    "else:\n",
    "    print(\"홀수 입니다.\")"
   ]
  },
  {
   "cell_type": "code",
   "execution_count": 9,
   "metadata": {},
   "outputs": [
    {
     "name": "stdout",
     "output_type": "stream",
     "text": [
      "2 x 1 = 2\n",
      "2 x 2 = 4\n",
      "2 x 3 = 6\n",
      "2 x 4 = 8\n",
      "2 x 5 = 10\n",
      "2 x 6 = 12\n",
      "2 x 7 = 14\n",
      "2 x 8 = 16\n",
      "2 x 9 = 18\n"
     ]
    }
   ],
   "source": [
    "# 몇 단을 출력할까요? 3  \n",
    "# 3 x 1 = 3  \n",
    "# 3 x 2 = 6  \n",
    "# 3 x 3 = 9  \n",
    "# ...  \n",
    "# 3 x 9 = 27\n",
    "\n",
    "# 1. 숫자 입력 int(input)\n",
    "# 2. 구구단 출력\n",
    "# 3. 결과 출력\n",
    "\n",
    "\n",
    "num = int(input(\"몇 단 출력할꼬? : \"))\n",
    "\n",
    "for i in range (1, 10):\n",
    "    print(f\"{num} x {i} = {num * i}\")"
   ]
  },
  {
   "cell_type": "code",
   "execution_count": 4,
   "metadata": {},
   "outputs": [
    {
     "ename": "SyntaxError",
     "evalue": "invalid syntax (3308066167.py, line 6)",
     "output_type": "error",
     "traceback": [
      "\u001b[0;36m  Cell \u001b[0;32mIn[4], line 6\u001b[0;36m\u001b[0m\n\u001b[0;31m    while user_input ! - random_num:\u001b[0m\n\u001b[0m                     ^\u001b[0m\n\u001b[0;31mSyntaxError\u001b[0m\u001b[0;31m:\u001b[0m invalid syntax\n"
     ]
    }
   ],
   "source": [
    "import random\n",
    "\n",
    "random_num = random.randint(1, 100)\n",
    "\n",
    "user_input = 0\n",
    "while user_input ! = random_num:\n",
    "    user_input = int(input(\"숫자를 입력하세요 : \"))\n",
    "\n",
    "    if user_input < random_num:\n",
    "        print(\"더 큰 숫자를 입력해보세요.\")\n",
    "    elif user_input > random:\n",
    "        print(\"더 작은 숫자를 입력해보세요.\")\n",
    "    else:\n",
    "        print(\"정답입니다.\")\n"
   ]
  },
  {
   "cell_type": "code",
   "execution_count": null,
   "metadata": {},
   "outputs": [],
   "source": []
  }
 ],
 "metadata": {
  "kernelspec": {
   "display_name": "bogdong",
   "language": "python",
   "name": "python3"
  },
  "language_info": {
   "codemirror_mode": {
    "name": "ipython",
    "version": 3
   },
   "file_extension": ".py",
   "mimetype": "text/x-python",
   "name": "python",
   "nbconvert_exporter": "python",
   "pygments_lexer": "ipython3",
   "version": "3.12.8"
  }
 },
 "nbformat": 4,
 "nbformat_minor": 2
}
